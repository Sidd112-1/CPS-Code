{
 "cells": [
  {
   "cell_type": "code",
   "execution_count": 1,
   "id": "c2490652-99c0-41ee-bd30-d077a00de412",
   "metadata": {},
   "outputs": [
    {
     "name": "stdin",
     "output_type": "stream",
     "text": [
      "Enter no of lines: 5\n"
     ]
    },
    {
     "name": "stdout",
     "output_type": "stream",
     "text": [
      "1\n",
      "22\n",
      "333\n",
      "4444\n",
      "55555\n"
     ]
    }
   ],
   "source": [
    "i=1\n",
    "n=int(input(\"Enter no of lines:\"))\n",
    "for j in range(1,n+1):\n",
    "    print((str(i))*j)\n",
    "    i=i+1"
   ]
  },
  {
   "cell_type": "code",
   "execution_count": 3,
   "id": "1582ec04-498d-4816-931f-e10335ae25dc",
   "metadata": {},
   "outputs": [
    {
     "name": "stdin",
     "output_type": "stream",
     "text": [
      "Enter no of lines: 5\n"
     ]
    },
    {
     "name": "stdout",
     "output_type": "stream",
     "text": [
      "11111\n",
      "2222\n",
      "333\n",
      "44\n",
      "5\n"
     ]
    }
   ],
   "source": [
    "a=1\n",
    "n=int(input(\"Enter no of lines:\"))\n",
    "for b in range(n,0,-1):\n",
    "    print((str(a))*b)\n",
    "    a=a+1"
   ]
  },
  {
   "cell_type": "code",
   "execution_count": 11,
   "id": "3d56affc-87c9-47d5-bfa3-1e2383d4ee8e",
   "metadata": {},
   "outputs": [
    {
     "name": "stdin",
     "output_type": "stream",
     "text": [
      "Enter no of lines: 5\n"
     ]
    },
    {
     "name": "stdout",
     "output_type": "stream",
     "text": [
      "1 \n",
      "1 2 \n",
      "1 2 3 \n",
      "1 2 3 4 \n",
      "1 2 3 4 5 \n"
     ]
    }
   ],
   "source": [
    "x=1\n",
    "n=int(input(\"Enter no of lines:\"))\n",
    "for y in range (1,n+1):\n",
    "    for z in range(1,y+1):\n",
    "        print(z, end=\" \")\n",
    "    print()"
   ]
  },
  {
   "cell_type": "code",
   "execution_count": 13,
   "id": "2c16442e-c52a-4950-9f29-cc8b0e0fef04",
   "metadata": {},
   "outputs": [
    {
     "name": "stdin",
     "output_type": "stream",
     "text": [
      "Enter no of lines: 5\n"
     ]
    },
    {
     "name": "stdout",
     "output_type": "stream",
     "text": [
      "55555\n",
      "4444\n",
      "333\n",
      "22\n",
      "1\n"
     ]
    }
   ],
   "source": [
    "n=int(input(\"Enter no of lines:\"))\n",
    "i=n\n",
    "for j in range(n,0,-1):\n",
    "    print(str(i)*j)\n",
    "    i=i-1"
   ]
  },
  {
   "cell_type": "markdown",
   "id": "6b786cd0-6cb2-46c2-9cea-ee4f861a0938",
   "metadata": {
    "jp-MarkdownHeadingCollapsed": true
   },
   "source": [
    " i=1"
   ]
  },
  {
   "cell_type": "code",
   "execution_count": 22,
   "id": "439c2107-c26e-4dae-9720-e7778915f392",
   "metadata": {},
   "outputs": [
    {
     "name": "stdin",
     "output_type": "stream",
     "text": [
      "Enter no of lines 5\n"
     ]
    },
    {
     "name": "stdout",
     "output_type": "stream",
     "text": [
      "1 \n",
      "2 1 \n",
      "3 2 1 \n",
      "4 3 2 1 \n",
      "5 4 3 2 1 \n"
     ]
    }
   ],
   "source": [
    "i=1\n",
    "n=int(input(\"Enter no of lines\"))\n",
    "for j in range(1,n+1):\n",
    "    for k in range(j,0,-1):\n",
    "        print(k, end=\" \")\n",
    "    print()\n",
    "        "
   ]
  },
  {
   "cell_type": "code",
   "execution_count": 30,
   "id": "3bf24977-9fd4-420d-9399-fcbd5c1dd9c5",
   "metadata": {},
   "outputs": [
    {
     "name": "stdin",
     "output_type": "stream",
     "text": [
      "Enter no of lines: 5\n"
     ]
    },
    {
     "name": "stdout",
     "output_type": "stream",
     "text": [
      "0 1 2 3 4 5 \n",
      "0 1 2 3 4 \n",
      "0 1 2 3 \n",
      "0 1 2 \n",
      "0 1 \n",
      "0 \n"
     ]
    }
   ],
   "source": [
    "n=int(input(\"Enter no of lines:\"))\n",
    "for j in range(n,-1,-1):\n",
    "    for k in range(0,j+1):\n",
    "        print(k, end=\" \")\n",
    "    print()\n",
    "    "
   ]
  },
  {
   "cell_type": "code",
   "execution_count": 26,
   "id": "7ce6b1d8-4ff7-4c31-bb1d-1ee5a7ff67c7",
   "metadata": {},
   "outputs": [
    {
     "name": "stdout",
     "output_type": "stream",
     "text": [
      " 6  5  4  3  2 \n",
      " 6  5  4  3 \n",
      " 6  5  4 \n",
      " 6  5 \n",
      " 6 \n"
     ]
    }
   ],
   "source": [
    "n=6\n",
    "for i in range(1,n):\n",
    "    for j in range (n,i,-1):\n",
    "        print(\" \",end=\"\")\n",
    "        print(j, end=\" \")\n",
    "    print(\"\")"
   ]
  },
  {
   "cell_type": "code",
   "execution_count": null,
   "id": "1a39ef21-7ac3-46ef-a2a8-fdfe551f4c8c",
   "metadata": {},
   "outputs": [],
   "source": []
  }
 ],
 "metadata": {
  "kernelspec": {
   "display_name": "Python 3 (ipykernel)",
   "language": "python",
   "name": "python3"
  },
  "language_info": {
   "codemirror_mode": {
    "name": "ipython",
    "version": 3
   },
   "file_extension": ".py",
   "mimetype": "text/x-python",
   "name": "python",
   "nbconvert_exporter": "python",
   "pygments_lexer": "ipython3",
   "version": "3.12.4"
  }
 },
 "nbformat": 4,
 "nbformat_minor": 5
}

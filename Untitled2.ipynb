{
 "cells": [
  {
   "cell_type": "code",
   "execution_count": 3,
   "id": "4aee967c-facb-4378-80ac-d3ebca8ce15c",
   "metadata": {},
   "outputs": [
    {
     "data": {
      "text/plain": [
       "[8, 1, 3, 6]"
      ]
     },
     "execution_count": 3,
     "metadata": {},
     "output_type": "execute_result"
    }
   ],
   "source": [
    "L=[1,1,3,6,8]\n",
    "M=list(set(M))\n",
    "M"
   ]
  },
  {
   "cell_type": "code",
   "execution_count": 22,
   "id": "6c462ef4-d5a4-497b-aef6-8ecca75090b6",
   "metadata": {},
   "outputs": [
    {
     "ename": "NameError",
     "evalue": "name 'a' is not defined",
     "output_type": "error",
     "traceback": [
      "\u001b[1;31m---------------------------------------------------------------------------\u001b[0m",
      "\u001b[1;31mNameError\u001b[0m                                 Traceback (most recent call last)",
      "Cell \u001b[1;32mIn[22], line 2\u001b[0m\n\u001b[0;32m      1\u001b[0m tup\u001b[38;5;241m=\u001b[39m(\u001b[38;5;241m1\u001b[39m,\u001b[38;5;241m2\u001b[39m,\u001b[38;5;241m3\u001b[39m,\u001b[38;5;241m4\u001b[39m,\u001b[38;5;241m5\u001b[39m)\n\u001b[1;32m----> 2\u001b[0m \u001b[38;5;28mlist\u001b[39m(tup)\u001b[38;5;241m==\u001b[39ma,b,c,d,e\n\u001b[0;32m      3\u001b[0m a,b,c,d,e\n",
      "\u001b[1;31mNameError\u001b[0m: name 'a' is not defined"
     ]
    }
   ],
   "source": [
    "tup=(1,2,3,4,5)\n",
    "list(tup)==a,b,c,d,e\n",
    "a,b,c,d,e"
   ]
  },
  {
   "cell_type": "code",
   "execution_count": 36,
   "id": "79ca8c72-c838-48e9-b4c8-6bc01f261a8d",
   "metadata": {},
   "outputs": [
    {
     "name": "stdout",
     "output_type": "stream",
     "text": [
      "7\n"
     ]
    }
   ],
   "source": [
    "list=[4,7,1,9]\n",
    "for i in range(0,len(list)-1):\n",
    "    for j in range(i,len(list)):\n",
    "        if list[i]>list[j]:\n",
    "            temp=list[i]\n",
    "            list[i]=list[j]\n",
    "            list[i]=temp\n",
    "print(temp)"
   ]
  },
  {
   "cell_type": "code",
   "execution_count": 40,
   "id": "9142dbd1-01bd-489e-87a2-c2839c38e8a7",
   "metadata": {},
   "outputs": [
    {
     "ename": "TypeError",
     "evalue": "isinstance() arg 2 must be a type, a tuple of types, or a union",
     "output_type": "error",
     "traceback": [
      "\u001b[1;31m---------------------------------------------------------------------------\u001b[0m",
      "\u001b[1;31mTypeError\u001b[0m                                 Traceback (most recent call last)",
      "Cell \u001b[1;32mIn[40], line 10\u001b[0m\n\u001b[0;32m      8\u001b[0m     \u001b[38;5;28;01mreturn\u001b[39;00m flat_list\n\u001b[0;32m      9\u001b[0m nested_list\u001b[38;5;241m=\u001b[39m[[\u001b[38;5;241m1\u001b[39m,\u001b[38;5;241m2\u001b[39m,[\u001b[38;5;241m3\u001b[39m]],\u001b[38;5;241m4\u001b[39m,[\u001b[38;5;241m5\u001b[39m,\u001b[38;5;241m6\u001b[39m]]\n\u001b[1;32m---> 10\u001b[0m flattened\u001b[38;5;241m=\u001b[39mflatten_list(nested_list)\n\u001b[0;32m     11\u001b[0m \u001b[38;5;28mprint\u001b[39m(flattened)\n",
      "Cell \u001b[1;32mIn[40], line 4\u001b[0m, in \u001b[0;36mflatten_list\u001b[1;34m(nested_list)\u001b[0m\n\u001b[0;32m      2\u001b[0m flat_list\u001b[38;5;241m=\u001b[39m[]\n\u001b[0;32m      3\u001b[0m \u001b[38;5;28;01mfor\u001b[39;00m item \u001b[38;5;129;01min\u001b[39;00m nested_list:\n\u001b[1;32m----> 4\u001b[0m     \u001b[38;5;28;01mif\u001b[39;00m \u001b[38;5;28misinstance\u001b[39m(item, \u001b[38;5;28mlist\u001b[39m):\n\u001b[0;32m      5\u001b[0m         flat_list\u001b[38;5;241m.\u001b[39mextend(flatten_list(item))\n\u001b[0;32m      6\u001b[0m     \u001b[38;5;28;01melse\u001b[39;00m:\n",
      "\u001b[1;31mTypeError\u001b[0m: isinstance() arg 2 must be a type, a tuple of types, or a union"
     ]
    }
   ],
   "source": [
    "def flatten_list(nested_list):\n",
    "    flat_list=[]\n",
    "    for item in nested_list:\n",
    "        if isinstance(item, list):\n",
    "            flat_list.extend(flatten_list(item))\n",
    "        else:\n",
    "            flat_list.append(item)\n",
    "    return flat_list\n",
    "nested_list=[[1,2,[3]],4,[5,6]]\n",
    "flattened=flatten_list(nested_list)\n",
    "print(flattened)"
   ]
  },
  {
   "cell_type": "code",
   "execution_count": 3,
   "id": "2894b575-41b9-4b40-b3e0-b4528dcef70c",
   "metadata": {},
   "outputs": [
    {
     "name": "stdout",
     "output_type": "stream",
     "text": [
      "[3, 4, 5, 1, 2]\n"
     ]
    }
   ],
   "source": [
    "def rotate_list(lst,n):\n",
    "    if not lst:\n",
    "        return lst\n",
    "    n=n%len(lst)\n",
    "    return lst[n:]+lst[:n]\n",
    "lst=[1,2,3,4,5]\n",
    "rotated_list=rotate_list(lst,2)\n",
    "print(rotated_list)"
   ]
  },
  {
   "cell_type": "code",
   "execution_count": 1,
   "id": "bdd58640-a7e2-4a63-9834-38565cf40891",
   "metadata": {},
   "outputs": [
    {
     "name": "stdout",
     "output_type": "stream",
     "text": [
      "My name is Sidd and I am 36\n"
     ]
    }
   ],
   "source": [
    "age=36\n",
    "print(f\"My name is Sidd and I am {age}\")"
   ]
  },
  {
   "cell_type": "code",
   "execution_count": 7,
   "id": "97accbde-30df-41a9-ad69-8b6b8305fc05",
   "metadata": {},
   "outputs": [
    {
     "name": "stdout",
     "output_type": "stream",
     "text": [
      "The price is 9.00 dollars\n"
     ]
    }
   ],
   "source": [
    "x=9\n",
    "print(f'The price is {x:.2f} dollars')"
   ]
  },
  {
   "cell_type": "code",
   "execution_count": 9,
   "id": "3f598c98-9908-425b-8e04-946de1fa4ebe",
   "metadata": {},
   "outputs": [
    {
     "data": {
      "text/plain": [
       "'Amrita College Of Engineering'"
      ]
     },
     "execution_count": 9,
     "metadata": {},
     "output_type": "execute_result"
    }
   ],
   "source": [
    "a=\"amrita college of engineering\"\n",
    "a.capitalize()\n",
    "a.title()"
   ]
  },
  {
   "cell_type": "code",
   "execution_count": 11,
   "id": "deccbb70-a02f-42b0-be5b-92fcf924a69a",
   "metadata": {},
   "outputs": [
    {
     "data": {
      "text/plain": [
       "'hello'"
      ]
     },
     "execution_count": 11,
     "metadata": {},
     "output_type": "execute_result"
    }
   ],
   "source": [
    "b=\"HELLO\"\n",
    "b.casefold()"
   ]
  },
  {
   "cell_type": "code",
   "execution_count": 15,
   "id": "5c4e5c19-6bcd-4d44-a964-8b387b0fc9e9",
   "metadata": {},
   "outputs": [
    {
     "data": {
      "text/plain": [
       "' hello world'"
      ]
     },
     "execution_count": 15,
     "metadata": {},
     "output_type": "execute_result"
    }
   ],
   "source": [
    "c=\" HELLO WORLD\"\n",
    "c.casefold()"
   ]
  },
  {
   "cell_type": "code",
   "execution_count": 17,
   "id": "8db694ee-53a3-4369-b22e-6fe7d89739e5",
   "metadata": {},
   "outputs": [
    {
     "ename": "AttributeError",
     "evalue": "'list' object has no attribute 'casefold'",
     "output_type": "error",
     "traceback": [
      "\u001b[1;31m---------------------------------------------------------------------------\u001b[0m",
      "\u001b[1;31mAttributeError\u001b[0m                            Traceback (most recent call last)",
      "Cell \u001b[1;32mIn[17], line 2\u001b[0m\n\u001b[0;32m      1\u001b[0m x\u001b[38;5;241m=\u001b[39m[\u001b[38;5;124m\"\u001b[39m\u001b[38;5;124mHI\u001b[39m\u001b[38;5;124m\"\u001b[39m,\u001b[38;5;124m\"\u001b[39m\u001b[38;5;124mHELLO\u001b[39m\u001b[38;5;124m\"\u001b[39m,\u001b[38;5;124m\"\u001b[39m\u001b[38;5;124mWORLD\u001b[39m\u001b[38;5;124m\"\u001b[39m]\n\u001b[1;32m----> 2\u001b[0m x\u001b[38;5;241m.\u001b[39mcasefold()\n",
      "\u001b[1;31mAttributeError\u001b[0m: 'list' object has no attribute 'casefold'"
     ]
    }
   ],
   "source": [
    "x=[\"HI\",\"HELLO\",\"WORLD\"]\n",
    "x.casefold()"
   ]
  },
  {
   "cell_type": "code",
   "execution_count": 23,
   "id": "6f348431-2745-41ee-8939-8753564d54cf",
   "metadata": {},
   "outputs": [
    {
     "name": "stdout",
     "output_type": "stream",
     "text": [
      "madam\n"
     ]
    }
   ],
   "source": [
    "string=\"madam\"\n",
    "print(string[::-1])"
   ]
  },
  {
   "cell_type": "code",
   "execution_count": 22,
   "id": "a0d6c420-5a25-46da-bd7e-8d6416090cb3",
   "metadata": {},
   "outputs": [],
   "source": [
    "# new_list=[expression for item in iterable if condition]\n",
    "L=['Jishnu','Sanjana','Jaswanth','Raghu','Francis']\n",
    "new_list=[new_list.append(x) for x in L if \"J\" in x or \"j\" in x]"
   ]
  },
  {
   "cell_type": "code",
   "execution_count": 26,
   "id": "cdd4a5b5-f326-4081-87d8-7d701a18df05",
   "metadata": {},
   "outputs": [
    {
     "name": "stdout",
     "output_type": "stream",
     "text": [
      "No of vowels: 5\n",
      "No of consonants: 10\n"
     ]
    }
   ],
   "source": [
    "string=\"Welcome to Python\"\n",
    "vowel=\"AEIOUaeiou\"\n",
    "consonants=\"QWRTYPSDFGHJKLZXCVBNMqwrtypsdfghjklzxcvbnm\"\n",
    "count=1\n",
    "count_vowel=sum(count for char in string if char in vowel)\n",
    "count_consonant=sum(count for char in string if char in consonants)\n",
    "print(\"No of vowels:\",count_vowel)\n",
    "print(\"No of consonants:\",count_consonant)"
   ]
  },
  {
   "cell_type": "code",
   "execution_count": 33,
   "id": "6ef93e99-041e-4153-8118-57356dd2b8b1",
   "metadata": {},
   "outputs": [
    {
     "name": "stdout",
     "output_type": "stream",
     "text": [
      "No of words: 0\n"
     ]
    }
   ],
   "source": [
    "S=\"python is a popular programming language\"\n",
    "for char in S:\n",
    "    count=0\n",
    "    if char==\" \":\n",
    "        count=count+1\n",
    "print(\"No of words:\",count)"
   ]
  },
  {
   "cell_type": "code",
   "execution_count": 9,
   "id": "48cbc046-e449-4327-9172-cf13bc569d4e",
   "metadata": {},
   "outputs": [
    {
     "data": {
      "text/plain": [
       "[1, 3, 3, 4, 4, 4]"
      ]
     },
     "execution_count": 9,
     "metadata": {},
     "output_type": "execute_result"
    }
   ],
   "source": [
    "L=[1,6,3,7,9,4]\n",
    "i=0\n",
    "for i in range(len(L)-1):\n",
    "    min=i\n",
    "    for j in range(i+1,len(L)):\n",
    "        if L[j]<L[min]:\n",
    "            min=j\n",
    "    if min!=i:\n",
    "        L[i]=L[min]\n",
    "L"
   ]
  },
  {
   "cell_type": "code",
   "execution_count": 1,
   "id": "c65ee2a5-147f-49ce-8c62-a111eeef3f68",
   "metadata": {},
   "outputs": [
    {
     "name": "stdout",
     "output_type": "stream",
     "text": [
      "The array after sorting in Ascending Order by selection sort is:\n",
      "[-202, -97, -9, -2, 0, 11, 45, 88, 747]\n"
     ]
    }
   ],
   "source": [
    "def selectionSort(array, size):\n",
    "    \n",
    "    for ind in range(size):\n",
    "        min_index = ind\n",
    " \n",
    "        for j in range(ind + 1, size):\n",
    "            # select the minimum element in every iteration\n",
    "            if array[j] < array[min_index]:\n",
    "                min_index = j\n",
    "         # swapping the elements to sort the array\n",
    "        (array[ind], array[min_index]) = (array[min_index], array[ind])\n",
    " \n",
    "arr = [-2, 45, 0, 11, -9,88,-97,-202,747]\n",
    "size = len(arr)\n",
    "selectionSort(arr, size)\n",
    "print('The array after sorting in Ascending Order by selection sort is:')\n",
    "print(arr)"
   ]
  },
  {
   "cell_type": "code",
   "execution_count": 17,
   "id": "bcdfbb7d-aa85-41ee-acc2-adaa6d2f0e06",
   "metadata": {},
   "outputs": [
    {
     "name": "stdout",
     "output_type": "stream",
     "text": [
      "[10, 20, 30, 40, 50, 60]\n"
     ]
    }
   ],
   "source": [
    "def instertionSort(arr):\n",
    "    n=len(arr)\n",
    "    if n<=1:\n",
    "        return\n",
    "    for i in range(1,n):\n",
    "        key=arr[i]\n",
    "        j=i-1\n",
    "        while j>=0 and key<arr[j]:\n",
    "            arr[j+1]=arr[j]\n",
    "            j-=1\n",
    "        arr[j+1]=key\n",
    "arr=[40,20,60,10,50,30]\n",
    "instertionSort(arr)\n",
    "print(arr)"
   ]
  },
  {
   "cell_type": "code",
   "execution_count": null,
   "id": "c2d1c5ac-4d1e-4bda-8dbc-77aa64958025",
   "metadata": {},
   "outputs": [],
   "source": []
  }
 ],
 "metadata": {
  "kernelspec": {
   "display_name": "Python 3 (ipykernel)",
   "language": "python",
   "name": "python3"
  },
  "language_info": {
   "codemirror_mode": {
    "name": "ipython",
    "version": 3
   },
   "file_extension": ".py",
   "mimetype": "text/x-python",
   "name": "python",
   "nbconvert_exporter": "python",
   "pygments_lexer": "ipython3",
   "version": "3.12.4"
  }
 },
 "nbformat": 4,
 "nbformat_minor": 5
}

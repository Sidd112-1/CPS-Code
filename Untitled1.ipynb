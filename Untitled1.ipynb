{
 "cells": [
  {
   "cell_type": "code",
   "execution_count": null,
   "id": "0d3d8b24-ce46-4272-92be-ffb1302751e0",
   "metadata": {},
   "outputs": [],
   "source": []
  },
  {
   "cell_type": "code",
   "execution_count": 25,
   "id": "4845cdff-44e3-42ba-a7e6-5bd2138451f8",
   "metadata": {},
   "outputs": [
    {
     "name": "stdin",
     "output_type": "stream",
     "text": [
      "Order of matrix:  3\n",
      " 1 2 3\n",
      " 4 5 6\n",
      " 7 8 9\n"
     ]
    },
    {
     "name": "stdout",
     "output_type": "stream",
     "text": [
      "[[1, 2, 3], [4, 5, 6], [7, 8, 9]]\n",
      "[[0, 0, 0], [0, 0, 0], [0, 0, 0]]\n"
     ]
    },
    {
     "name": "stdin",
     "output_type": "stream",
     "text": [
      "Number to scale matrix by:  5\n"
     ]
    },
    {
     "name": "stdout",
     "output_type": "stream",
     "text": [
      "[[5, 10, 15], [20, 25, 30], [35, 40, 45]]\n"
     ]
    }
   ],
   "source": [
    "n=int(input(\"Order of matrix: \"))\n",
    "X=[]\n",
    "for a in range(n):\n",
    "   row = list(map(int, input().split()))\n",
    "   X.append(row)\n",
    "print(X)\n",
    "Y=[[0]*n for b in range(n)]\n",
    "print(Y)\n",
    "N=int(input(\"Number to scale matrix by: \"))\n",
    "for i in range(len(X)):\n",
    "    for j in range(len(X[0])):\n",
    "        Y[i][j]=N*X[i][j]\n",
    "print(Y)"
   ]
  },
  {
   "cell_type": "code",
   "execution_count": 62,
   "id": "9f5cfee3-ee01-47da-b63a-1b778244962d",
   "metadata": {},
   "outputs": [
    {
     "ename": "SyntaxError",
     "evalue": "incomplete input (4292371653.py, line 10)",
     "output_type": "error",
     "traceback": [
      "\u001b[1;36m  Cell \u001b[1;32mIn[62], line 10\u001b[1;36m\u001b[0m\n\u001b[1;33m    for j in range(len(X[0])):\u001b[0m\n\u001b[1;37m                              ^\u001b[0m\n\u001b[1;31mSyntaxError\u001b[0m\u001b[1;31m:\u001b[0m incomplete input\n"
     ]
    }
   ],
   "source": [
    "n=int(input(\"No of rows: \"))\n",
    "X=[]\n",
    "for a in range(n):\n",
    "   row = list(map(int, input().split()))\n",
    "   X.append(row)\n",
    "print(X)\n",
    "Y=[[0*n for b in range(len(X))] for c in range(len(X[0]))]\n",
    "print(Y)\n",
    "for i in range(len(X)):\n",
    "    for j in range(len(X[0])):\n",
    "        "
   ]
  },
  {
   "cell_type": "code",
   "execution_count": null,
   "id": "250dbacf-f8a7-48d0-aced-7dc1b420a6bf",
   "metadata": {},
   "outputs": [],
   "source": []
  }
 ],
 "metadata": {
  "kernelspec": {
   "display_name": "Python 3 (ipykernel)",
   "language": "python",
   "name": "python3"
  },
  "language_info": {
   "codemirror_mode": {
    "name": "ipython",
    "version": 3
   },
   "file_extension": ".py",
   "mimetype": "text/x-python",
   "name": "python",
   "nbconvert_exporter": "python",
   "pygments_lexer": "ipython3",
   "version": "3.12.4"
  }
 },
 "nbformat": 4,
 "nbformat_minor": 5
}

{
 "cells": [
  {
   "cell_type": "code",
   "execution_count": 1,
   "id": "3f5af33d-90bb-42e5-939b-71c14729f955",
   "metadata": {},
   "outputs": [
    {
     "name": "stdout",
     "output_type": "stream",
     "text": [
      "[1, 3, 5, 7, 9]\n"
     ]
    }
   ],
   "source": [
    "L=[1,3,5,7]\n",
    "L.append(9)\n",
    "print(L)"
   ]
  },
  {
   "cell_type": "code",
   "execution_count": 5,
   "id": "ee45b6bc-6ee4-472e-a790-117e0238fa3f",
   "metadata": {},
   "outputs": [
    {
     "name": "stdout",
     "output_type": "stream",
     "text": [
      "['a', 'b', 'c', 'd', 'e']\n"
     ]
    }
   ],
   "source": [
    "M=['a','b','c']\n",
    "M.extend(['d','e'])\n",
    "print(M)"
   ]
  },
  {
   "cell_type": "code",
   "execution_count": 35,
   "id": "ad797b1b-da3c-446d-a0ce-1d7713f3aebe",
   "metadata": {},
   "outputs": [
    {
     "name": "stdout",
     "output_type": "stream",
     "text": [
      "{1, 3, 5, 7, 9}\n"
     ]
    }
   ],
   "source": [
    "S={1,3,5,7}\n",
    "S.add(9)\n",
    "print(S)"
   ]
  },
  {
   "cell_type": "code",
   "execution_count": 41,
   "id": "07ada5c0-16c9-48b7-aeb6-75cc59d48881",
   "metadata": {},
   "outputs": [
    {
     "data": {
      "text/plain": [
       "{1, 2, 3, 4, 5}"
      ]
     },
     "execution_count": 41,
     "metadata": {},
     "output_type": "execute_result"
    }
   ],
   "source": [
    "T=(1,2,3,4,5)\n",
    "Y=set(T)\n",
    "Y"
   ]
  },
  {
   "cell_type": "code",
   "execution_count": 47,
   "id": "3c2f4833-dfaf-4f80-8040-2d5e3cb0ba7f",
   "metadata": {},
   "outputs": [
    {
     "data": {
      "text/plain": [
       "[10, 20, 25, 30, 40, 50]"
      ]
     },
     "execution_count": 47,
     "metadata": {},
     "output_type": "execute_result"
    }
   ],
   "source": [
    "nums=[10,20,30,40,50]\n",
    "nums.insert(2,25)\n",
    "nums"
   ]
  },
  {
   "cell_type": "code",
   "execution_count": null,
   "id": "2e677539-8284-480d-a9b4-9a0010db31d5",
   "metadata": {},
   "outputs": [],
   "source": []
  }
 ],
 "metadata": {
  "kernelspec": {
   "display_name": "Python 3 (ipykernel)",
   "language": "python",
   "name": "python3"
  },
  "language_info": {
   "codemirror_mode": {
    "name": "ipython",
    "version": 3
   },
   "file_extension": ".py",
   "mimetype": "text/x-python",
   "name": "python",
   "nbconvert_exporter": "python",
   "pygments_lexer": "ipython3",
   "version": "3.12.4"
  }
 },
 "nbformat": 4,
 "nbformat_minor": 5
}
